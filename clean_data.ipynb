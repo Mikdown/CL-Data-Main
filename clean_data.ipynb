{
 "cells": [
  {
   "cell_type": "markdown",
   "metadata": {},
   "source": []
  },
  {
   "cell_type": "code",
   "execution_count": 6,
   "metadata": {},
   "outputs": [
    {
     "name": "stdout",
     "output_type": "stream",
     "text": [
      "            Date Close/Last     Volume      Open      High       Low Symbol\n",
      "0     09/12/2022    $163.43  104956000   $159.59   $164.26    $159.3   AAPL\n",
      "1     09/09/2022    $157.37   68081010   $155.47   $157.82   $154.75   AAPL\n",
      "2     09/08/2022    $154.46   84923850   $154.64   $156.36   $152.68   AAPL\n",
      "3     09/07/2022    $155.96   87449570  $154.825   $156.67   $153.61   AAPL\n",
      "4     09/06/2022    $154.53   73714840   $156.47   $157.09   $153.69   AAPL\n",
      "...          ...        ...        ...       ...       ...       ...    ...\n",
      "2510  09/19/2012    $25.075  326302629  $25.0093  $25.1425  $24.9847   AAPL\n",
      "2511  09/18/2012   $25.0682  372557211  $24.9957  $25.0832  $24.8722   AAPL\n",
      "2512  09/17/2012   $24.9922  395673162  $24.9768  $24.9929  $24.8075   AAPL\n",
      "2513  09/14/2012   $24.6886  599508880  $24.6413  $24.8922  $24.5675   AAPL\n",
      "2514  09/13/2012   $24.3922  597047961  $24.1918  $24.4822  $24.0989   AAPL\n",
      "\n",
      "[2515 rows x 7 columns]\n"
     ]
    }
   ],
   "source": [
    "\n",
    "import pandas as pd\n",
    "AAPL_df = pd.read_csv('/Users/miked/documents/Code_Louisville_Project/HistoricalData_AAPL.csv') ##Import data from local CSV file to a dataframe.\n",
    "AAPL_df['Symbol'] = 'AAPL' ##Add a column titled \"Symbol\" to all rows in the dataframe and append with the stock symbol AAPL\". The stock symbol was only in the file name when it was downloaded.\n",
    "AAPL_df.to_csv('/Users/miked/documents/Code_Louisville_Project/AAPL_df.csv') #Export the dataframe back to CSV with new file name.\n",
    "print(AAPL_df)"
   ]
  },
  {
   "cell_type": "code",
   "execution_count": 7,
   "metadata": {},
   "outputs": [
    {
     "name": "stdout",
     "output_type": "stream",
     "text": [
      "            Date Close/Last    Volume    Open      High       Low Symbol\n",
      "0     09/12/2022     $84.64  71922540  $84.89  $85.3488    $83.46    AMD\n",
      "1     09/09/2022     $85.45  68936920  $84.03    $85.68    $83.84    AMD\n",
      "2     09/08/2022     $82.78  89089300  $80.03    $83.45    $79.24    AMD\n",
      "3     09/07/2022     $79.61  67891170  $79.24    $80.25    $77.74    AMD\n",
      "4     09/06/2022     $78.72  68727300  $80.41    $80.89  $78.3724    AMD\n",
      "...          ...        ...       ...     ...       ...       ...    ...\n",
      "2510  09/19/2012      $3.66  31301500   $3.66     $3.71     $3.58    AMD\n",
      "2511  09/18/2012      $3.62  91237480    $3.7      $3.9      $3.6    AMD\n",
      "2512  09/17/2012      $4.01  41814760    $3.9     $4.02     $3.82    AMD\n",
      "2513  09/14/2012       $3.9  23584920   $3.96     $3.99     $3.85    AMD\n",
      "2514  09/13/2012      $3.92  38354580   $3.82     $3.94    $3.745    AMD\n",
      "\n",
      "[2515 rows x 7 columns]\n"
     ]
    }
   ],
   "source": [
    "import pandas as pd\n",
    "AMD_df = pd.read_csv('/Users/miked/documents/Code_Louisville_Project/HistoricalData_AMD.csv')\n",
    "AMD_df['Symbol'] = 'AMD'\n",
    "AMD_df.to_csv('/Users/miked/documents/Code_Louisville_Project/AMD_df.csv')\n",
    "print(AMD_df)"
   ]
  },
  {
   "cell_type": "code",
   "execution_count": 8,
   "metadata": {},
   "outputs": [
    {
     "name": "stdout",
     "output_type": "stream",
     "text": [
      "            Date Close/Last    Volume      Open      High       Low Symbol\n",
      "0     09/12/2022    $136.45  53826860  $134.095   $136.49      $134   AMZN\n",
      "1     09/09/2022    $133.27  49422260   $130.91   $133.69   $130.76   AMZN\n",
      "2     09/08/2022    $129.82  43988510   $127.72   $130.28    $127.1   AMZN\n",
      "3     09/07/2022    $129.48  47834490   $126.12   $129.82    $125.4   AMZN\n",
      "4     09/06/2022    $126.11  43888590   $127.92   $128.62   $124.74   AMZN\n",
      "...          ...        ...       ...       ...       ...       ...    ...\n",
      "2510  09/19/2012    $13.084  52728280  $12.9725   $13.142  $12.9265   AMZN\n",
      "2511  09/18/2012   $12.9375  44273040   $12.924   $13.025    $12.85   AMZN\n",
      "2512  09/17/2012      $12.9  46120300  $13.0625  $13.0625    $12.85   AMZN\n",
      "2513  09/14/2012   $13.0635  73321860    $13.07  $13.2055  $12.9885   AMZN\n",
      "2514  09/13/2012    $13.012  70509100   $12.747     $13.1    $12.69   AMZN\n",
      "\n",
      "[2515 rows x 7 columns]\n"
     ]
    }
   ],
   "source": [
    "import pandas as pd\n",
    "AMZN_df = pd.read_csv('/Users/miked/documents/Code_Louisville_Project/HistoricalData_AMZN.csv')\n",
    "AMZN_df['Symbol'] = 'AMZN'\n",
    "AMZN_df.to_csv('/Users/miked/documents/Code_Louisville_Project/AMZN_df.csv')\n",
    "print(AMZN_df)"
   ]
  },
  {
   "cell_type": "code",
   "execution_count": 9,
   "metadata": {},
   "outputs": [
    {
     "name": "stdout",
     "output_type": "stream",
     "text": [
      "            Date Close/Last    Volume    Open     High      Low Symbol\n",
      "0     09/12/2022      $46.4  17923010  $46.11   $46.73   $45.97   CSCO\n",
      "1     09/09/2022     $45.77  15499420  $45.66   $45.89  $45.395   CSCO\n",
      "2     09/08/2022     $45.37  14231500  $44.76   $45.47   $44.62   CSCO\n",
      "3     09/07/2022     $45.02  18297410  $44.75  $45.165   $44.35   CSCO\n",
      "4     09/06/2022     $44.47  14366070  $44.66  $44.787   $43.98   CSCO\n",
      "...          ...        ...       ...     ...      ...      ...    ...\n",
      "2510  09/19/2012     $19.12  29685320  $19.18   $19.21   $18.95   CSCO\n",
      "2511  09/18/2012    $19.045  45466030  $19.06   $19.27   $19.01   CSCO\n",
      "2512  09/17/2012     $19.16  36731520  $19.16  $19.305   $19.06   CSCO\n",
      "2513  09/14/2012     $19.49  46350900  $19.36   $19.69   $19.34   CSCO\n",
      "2514  09/13/2012     $19.36  37778520  $19.06   $19.52   $19.02   CSCO\n",
      "\n",
      "[2515 rows x 7 columns]\n"
     ]
    }
   ],
   "source": [
    "import pandas as pd\n",
    "CSCO_df = pd.read_csv('/Users/miked/documents/Code_Louisville_Project/HistoricalData_CSCO.csv')\n",
    "CSCO_df['Symbol'] = 'CSCO'\n",
    "CSCO_df.to_csv('/Users/miked/documents/Code_Louisville_Project/CSCO_df.csv')\n",
    "print(CSCO_df)"
   ]
  },
  {
   "cell_type": "code",
   "execution_count": 10,
   "metadata": {},
   "outputs": [
    {
     "name": "stdout",
     "output_type": "stream",
     "text": [
      "            Date Close/Last    Volume      Open      High      Low Symbol\n",
      "0     09/12/2022    $168.96  23220410   $167.39   $171.39  $167.28   META\n",
      "1     09/09/2022    $169.15  22129800  $163.248   $169.54  $163.02   META\n",
      "2     09/08/2022    $162.06  22530790   $158.71   $162.23  $157.74   META\n",
      "3     09/07/2022    $160.39  16831180   $157.76  $160.955  $156.81   META\n",
      "4     09/06/2022    $158.54  19339780    $160.1   $161.69  $157.69   META\n",
      "...          ...        ...       ...       ...       ...      ...    ...\n",
      "2510  09/19/2012     $23.29  78525460    $21.99    $23.37   $21.77   META\n",
      "2511  09/18/2012     $21.87  36696330     $21.6    $21.98   $21.37   META\n",
      "2512  09/17/2012     $21.52  50593510    $22.67    $22.75    $21.5   META\n",
      "2513  09/14/2012        $22  72707430    $21.13    $22.08    $20.9   META\n",
      "2514  09/13/2012    $20.713  64896660   $20.955    $21.48   $20.61   META\n",
      "\n",
      "[2515 rows x 7 columns]\n"
     ]
    }
   ],
   "source": [
    "import pandas as pd\n",
    "META_df = pd.read_csv('/Users/miked/documents/Code_Louisville_Project/HistoricalData_META.csv')\n",
    "META_df['Symbol'] = 'META'\n",
    "META_df.to_csv('/Users/miked/documents/Code_Louisville_Project/META_df.csv')\n",
    "print(META_df)"
   ]
  },
  {
   "cell_type": "code",
   "execution_count": 11,
   "metadata": {},
   "outputs": [
    {
     "name": "stdout",
     "output_type": "stream",
     "text": [
      "            Date Close/Last    Volume     Open     High      Low Symbol\n",
      "0     09/12/2022    $266.65  18747690  $265.78  $267.45  $265.16   MSFT\n",
      "1     09/09/2022    $264.46  22093190   $260.5  $265.23  $260.29   MSFT\n",
      "2     09/08/2022    $258.52  20319910  $257.51  $260.43  $254.79   MSFT\n",
      "3     09/07/2022    $258.09  24126700   $254.7  $258.83  $253.22   MSFT\n",
      "4     09/06/2022    $253.25  21328240   $256.2  $257.83  $251.94   MSFT\n",
      "...          ...        ...       ...      ...      ...      ...    ...\n",
      "2510  09/19/2012    $31.052  48867240   $31.09   $31.19   $31.04   MSFT\n",
      "2511  09/18/2012    $31.175  34521150    $31.1   $31.21   $31.03   MSFT\n",
      "2512  09/17/2012     $31.21  36486490   $31.19   $31.26   $31.04   MSFT\n",
      "2513  09/14/2012     $31.21  51393430   $31.01   $31.25   $30.81   MSFT\n",
      "2514  09/13/2012    $30.935  45032110   $30.89   $31.18    $30.4   MSFT\n",
      "\n",
      "[2515 rows x 7 columns]\n"
     ]
    }
   ],
   "source": [
    "import pandas as pd\n",
    "MSFT_df = pd.read_csv('/Users/miked/documents/Code_Louisville_Project/HistoricalData_MSFT.csv')\n",
    "MSFT_df['Symbol'] = 'MSFT'\n",
    "MSFT_df.to_csv('/Users/miked/documents/Code_Louisville_Project/MSFT_df.csv')\n",
    "print(MSFT_df)"
   ]
  },
  {
   "cell_type": "code",
   "execution_count": 12,
   "metadata": {},
   "outputs": [
    {
     "name": "stdout",
     "output_type": "stream",
     "text": [
      "            Date Close/Last    Volume     Open       High        Low Symbol\n",
      "0     09/12/2022    $236.53   6047425  $233.61    $239.49    $233.37   NFLX\n",
      "1     09/09/2022    $233.57   6702060  $229.62  $234.7799    $229.62   NFLX\n",
      "2     09/08/2022    $227.44   6737436  $224.16   $228.735     $221.3   NFLX\n",
      "3     09/07/2022    $228.96   8149329  $220.21    $229.33  $218.2681   NFLX\n",
      "4     09/06/2022    $218.39   7469016  $225.59    $226.85    $214.69   NFLX\n",
      "...          ...        ...       ...      ...        ...        ...    ...\n",
      "2510  09/19/2012    $8.1486  35342332  $8.1057    $8.2714    $7.9571   NFLX\n",
      "2511  09/18/2012    $8.0086  30295967  $8.1843    $8.3314    $7.9743   NFLX\n",
      "2512  09/17/2012    $8.1457  36267445  $8.4257    $8.4286      $8.11   NFLX\n",
      "2513  09/14/2012    $8.6457  32956465  $8.3571    $8.7741    $8.3286   NFLX\n",
      "2514  09/13/2012    $8.2857  24489563  $8.1243    $8.3114    $8.0129   NFLX\n",
      "\n",
      "[2515 rows x 7 columns]\n"
     ]
    }
   ],
   "source": [
    "import pandas as pd\n",
    "NFLX_df = pd.read_csv('/Users/miked/documents/Code_Louisville_Project/HistoricalData_NFLX.csv')\n",
    "NFLX_df['Symbol'] = 'NFLX'\n",
    "NFLX_df.to_csv('/Users/miked/documents/Code_Louisville_Project/NFLX_df.csv')\n",
    "print(NFLX_df)"
   ]
  },
  {
   "cell_type": "code",
   "execution_count": 13,
   "metadata": {},
   "outputs": [
    {
     "name": "stdout",
     "output_type": "stream",
     "text": [
      "            Date Close/Last    Volume     Open     High        Low Symbol\n",
      "0     09/12/2022       $133   7081303     $133  $134.22    $132.32   QCOM\n",
      "1     09/09/2022    $132.05   5100116  $130.68  $132.61  $130.3082   QCOM\n",
      "2     09/08/2022    $128.85   6618782  $127.47   $129.8     $125.9   QCOM\n",
      "3     09/07/2022     $128.6   5340100  $127.47  $129.78    $126.37   QCOM\n",
      "4     09/06/2022    $126.67   6674208  $128.84  $129.52    $126.21   QCOM\n",
      "...          ...        ...       ...      ...      ...        ...    ...\n",
      "2510  09/19/2012     $65.08  10000070   $65.04   $65.45     $64.51   QCOM\n",
      "2511  09/18/2012     $65.08   8570337   $64.61   $65.35      $64.5   QCOM\n",
      "2512  09/17/2012     $64.81  10085050   $65.04   $65.05     $64.43   QCOM\n",
      "2513  09/14/2012     $64.88  15970240   $64.17   $65.28     $64.07   QCOM\n",
      "2514  09/13/2012    $63.845  13965630   $62.58   $64.25      $62.5   QCOM\n",
      "\n",
      "[2515 rows x 7 columns]\n"
     ]
    }
   ],
   "source": [
    "import pandas as pd\n",
    "QCOM_df = pd.read_csv('/Users/miked/documents/Code_Louisville_Project/HistoricalData_QCOM.csv')\n",
    "QCOM_df['Symbol'] = 'QCOM'\n",
    "QCOM_df.to_csv('/Users/miked/documents/Code_Louisville_Project/QCOM_df.csv')\n",
    "print(QCOM_df)"
   ]
  },
  {
   "cell_type": "code",
   "execution_count": 14,
   "metadata": {},
   "outputs": [
    {
     "name": "stdout",
     "output_type": "stream",
     "text": [
      "            Date Close/Last    Volume     Open      High      Low Symbol\n",
      "0     09/12/2022     $89.07   9078938   $89.77    $90.38   $88.54   SBUX\n",
      "1     09/09/2022     $88.69   7096165    $89.5    $89.95   $88.64   SBUX\n",
      "2     09/08/2022     $89.46   7721071    $87.3    $89.48   $87.16   SBUX\n",
      "3     09/07/2022     $88.31   9946770   $85.11   $88.617   $84.92   SBUX\n",
      "4     09/06/2022     $84.52  11062810   $83.07    $84.62   $81.67   SBUX\n",
      "...          ...        ...       ...      ...       ...      ...    ...\n",
      "2510  09/19/2012   $25.0555  14277010   $24.67   $25.205  $24.575   SBUX\n",
      "2511  09/18/2012    $24.625  17068694   $24.78  $24.8199   $24.54   SBUX\n",
      "2512  09/17/2012     $24.83  21955180  $24.975   $25.035  $24.495   SBUX\n",
      "2513  09/14/2012     $25.23  24166900  $25.925       $26   $25.19   SBUX\n",
      "2514  09/13/2012     $25.86  11351718  $25.585   $25.925   $25.44   SBUX\n",
      "\n",
      "[2515 rows x 7 columns]\n"
     ]
    }
   ],
   "source": [
    "import pandas as pd\n",
    "SBUX_df = pd.read_csv('/Users/miked/documents/Code_Louisville_Project/HistoricalData_SBUX.csv')\n",
    "SBUX_df['Symbol'] = 'SBUX'\n",
    "SBUX_df.to_csv('/Users/miked/documents/Code_Louisville_Project/SBUX_df.csv')\n",
    "print(SBUX_df)"
   ]
  },
  {
   "cell_type": "code",
   "execution_count": 15,
   "metadata": {},
   "outputs": [
    {
     "name": "stdout",
     "output_type": "stream",
     "text": [
      "            Date Close/Last    Volume      Open     High       Low Symbol\n",
      "0     09/12/2022    $304.42  48674600   $300.72  $305.49    $300.4   TSLA\n",
      "1     09/09/2022    $299.68  54470850   $291.67  $299.85  $291.245   TSLA\n",
      "2     09/08/2022    $289.26  53713120    $281.3   $289.5   $279.76   TSLA\n",
      "3     09/07/2022     $283.7  50028920    $273.1  $283.84   $272.27   TSLA\n",
      "4     09/06/2022    $274.42  55859980  $272.675  $275.99   $265.74   TSLA\n",
      "...          ...        ...       ...       ...      ...       ...    ...\n",
      "2510  09/19/2012      $2.07  15726847   $2.0667   $2.116   $2.0627   TSLA\n",
      "2511  09/18/2012    $2.0893  26827187   $2.1253  $2.1267   $2.0453   TSLA\n",
      "2512  09/17/2012    $2.1693  48191091   $2.1567  $2.1853   $2.1007   TSLA\n",
      "2513  09/14/2012     $2.026  23048523        $2  $2.0433   $1.9767   TSLA\n",
      "2514  09/13/2012    $1.9653  22180279   $1.9047  $1.9667   $1.8987   TSLA\n",
      "\n",
      "[2515 rows x 7 columns]\n"
     ]
    }
   ],
   "source": [
    "import pandas as pd\n",
    "TSLA_df = pd.read_csv('/Users/miked/documents/Code_Louisville_Project/HistoricalData_TSLA.csv')\n",
    "TSLA_df['Symbol'] = 'TSLA'\n",
    "TSLA_df.to_csv('/Users/miked/documents/Code_Louisville_Project/TSLA_df.csv')\n",
    "print(TSLA_df)"
   ]
  }
 ],
 "metadata": {
  "kernelspec": {
   "display_name": "Python 3.10.6 64-bit",
   "language": "python",
   "name": "python3"
  },
  "language_info": {
   "codemirror_mode": {
    "name": "ipython",
    "version": 3
   },
   "file_extension": ".py",
   "mimetype": "text/x-python",
   "name": "python",
   "nbconvert_exporter": "python",
   "pygments_lexer": "ipython3",
   "version": "3.10.6"
  },
  "orig_nbformat": 4,
  "vscode": {
   "interpreter": {
    "hash": "aee8b7b246df8f9039afb4144a1f6fd8d2ca17a180786b69acc140d282b71a49"
   }
  }
 },
 "nbformat": 4,
 "nbformat_minor": 2
}
