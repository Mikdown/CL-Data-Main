{
 "cells": [
  {
   "cell_type": "code",
   "execution_count": 9,
   "metadata": {},
   "outputs": [
    {
     "name": "stdout",
     "output_type": "stream",
     "text": [
      "            Date Close/Last     Volume      Open      High       Low Symbol\n",
      "0     09/23/2022    $150.43   96029910   $151.19   $151.47   $148.56   AAPL\n",
      "1     09/22/2022    $152.74   86652540   $152.38   $154.47   $150.91   AAPL\n",
      "2     09/21/2022    $153.72  101696800   $157.34   $158.74    $153.6   AAPL\n",
      "3     09/20/2022     $156.9  107689800    $153.4   $158.08   $153.08   AAPL\n",
      "4     09/19/2022    $154.48   81474250   $149.31   $154.56    $149.1   AAPL\n",
      "...          ...        ...        ...       ...       ...       ...    ...\n",
      "2512  09/28/2012   $23.8252  534277586  $24.2411  $24.3254  $23.8125   AAPL\n",
      "2513  09/27/2012   $24.3329  592149643  $23.7247  $24.3632  $23.5839   AAPL\n",
      "2514  09/26/2012   $23.7564  576353169  $23.8836  $24.0247  $23.6143   AAPL\n",
      "2515  09/25/2012    $24.055  517506153  $24.5807  $24.7422  $24.0357   AAPL\n",
      "2516  09/24/2012   $24.6711  637743425  $24.5307  $24.8257  $24.3929   AAPL\n",
      "\n",
      "[2517 rows x 7 columns]\n"
     ]
    }
   ],
   "source": [
    "import pandas as pd\n",
    "    \n",
    "url_raw_csv = \"https://raw.githubusercontent.com/Mikdown/CL-Data-Main/main/AAPL.csv\" \n",
    "\n",
    "AAPL_df = pd.read_csv(url_raw_csv)\n",
    "\n",
    "print (AAPL_df)"
   ]
  }
 ],
 "metadata": {
  "kernelspec": {
   "display_name": "Python 3.10.6 64-bit",
   "language": "python",
   "name": "python3"
  },
  "language_info": {
   "codemirror_mode": {
    "name": "ipython",
    "version": 3
   },
   "file_extension": ".py",
   "mimetype": "text/x-python",
   "name": "python",
   "nbconvert_exporter": "python",
   "pygments_lexer": "ipython3",
   "version": "3.10.6"
  },
  "orig_nbformat": 4,
  "vscode": {
   "interpreter": {
    "hash": "aee8b7b246df8f9039afb4144a1f6fd8d2ca17a180786b69acc140d282b71a49"
   }
  }
 },
 "nbformat": 4,
 "nbformat_minor": 2
}
