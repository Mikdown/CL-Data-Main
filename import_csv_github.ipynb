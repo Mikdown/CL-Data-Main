{
 "cells": [
  {
   "cell_type": "code",
   "execution_count": 10,
   "metadata": {},
   "outputs": [
    {
     "name": "stdout",
     "output_type": "stream",
     "text": [
      "      Unnamed: 0        Date Close/Last     Volume      Open      High  \\\n",
      "0              0  2022-09-23    $150.43   96029910   $151.19   $151.47   \n",
      "1              1  2022-09-22    $152.74   86652540   $152.38   $154.47   \n",
      "2              2  2022-09-21    $153.72  101696800   $157.34   $158.74   \n",
      "3              3  2022-09-20     $156.9  107689800    $153.4   $158.08   \n",
      "4              4  2022-09-19    $154.48   81474250   $149.31   $154.56   \n",
      "...          ...         ...        ...        ...       ...       ...   \n",
      "2512        2512  2012-09-28   $23.8252  534277586  $24.2411  $24.3254   \n",
      "2513        2513  2012-09-27   $24.3329  592149643  $23.7247  $24.3632   \n",
      "2514        2514  2012-09-26   $23.7564  576353169  $23.8836  $24.0247   \n",
      "2515        2515  2012-09-25    $24.055  517506153  $24.5807  $24.7422   \n",
      "2516        2516  2012-09-24   $24.6711  637743425  $24.5307  $24.8257   \n",
      "\n",
      "           Low Symbol  \n",
      "0      $148.56   AAPL  \n",
      "1      $150.91   AAPL  \n",
      "2       $153.6   AAPL  \n",
      "3      $153.08   AAPL  \n",
      "4       $149.1   AAPL  \n",
      "...        ...    ...  \n",
      "2512  $23.8125   AAPL  \n",
      "2513  $23.5839   AAPL  \n",
      "2514  $23.6143   AAPL  \n",
      "2515  $24.0357   AAPL  \n",
      "2516  $24.3929   AAPL  \n",
      "\n",
      "[2517 rows x 8 columns]\n"
     ]
    }
   ],
   "source": [
    "import pandas as pd\n",
    "    \n",
    "url_raw_csv = \"https://raw.githubusercontent.com/Mikdown/CL-Data-Main/main/AAPL.csv\" \n",
    "\n",
    "AAPL_df = pd.read_csv(url_raw_csv)\n",
    "\n",
    "print (AAPL_df)"
   ]
  }
 ],
 "metadata": {
  "kernelspec": {
   "display_name": "Python 3.10.6 64-bit",
   "language": "python",
   "name": "python3"
  },
  "language_info": {
   "codemirror_mode": {
    "name": "ipython",
    "version": 3
   },
   "file_extension": ".py",
   "mimetype": "text/x-python",
   "name": "python",
   "nbconvert_exporter": "python",
   "pygments_lexer": "ipython3",
   "version": "3.10.6"
  },
  "orig_nbformat": 4,
  "vscode": {
   "interpreter": {
    "hash": "aee8b7b246df8f9039afb4144a1f6fd8d2ca17a180786b69acc140d282b71a49"
   }
  }
 },
 "nbformat": 4,
 "nbformat_minor": 2
}
