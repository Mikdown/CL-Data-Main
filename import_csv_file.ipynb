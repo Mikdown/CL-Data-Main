{
 "cells": [
  {
   "cell_type": "markdown",
   "metadata": {},
   "source": []
  },
  {
   "cell_type": "code",
   "execution_count": 17,
   "metadata": {},
   "outputs": [],
   "source": [
    "import pandas as pd\n",
    "import numpy as np\n"
   ]
  },
  {
   "cell_type": "code",
   "execution_count": 20,
   "metadata": {},
   "outputs": [
    {
     "name": "stdout",
     "output_type": "stream",
     "text": [
      "      Month  Day  Year  No. 1  No. 2  No. 3  No. 4  No. 5  PB\n",
      "0         2    6  2010     22     54     52     14     59   4\n",
      "1         2   10  2010     29      8     37     38      5  34\n",
      "2         2   13  2010     14     10     40     51     30   1\n",
      "3         2   17  2010     36      7     26      8     19  15\n",
      "4         2   20  2010     13     54     41     37     27  32\n",
      "...     ...  ...   ...    ...    ...    ...    ...    ...  ..\n",
      "1393     11    5  2022     69     53     45     56     28  20\n",
      "1394     11    7  2022     56     41     33     47     10  10\n",
      "1395     11    9  2022     14     24      7     30     56   7\n",
      "1396     11   12  2022     58     57     20     44     16   6\n",
      "1397     11   14  2022     54     67     19     53     35  21\n",
      "\n",
      "[1398 rows x 9 columns]\n"
     ]
    },
    {
     "data": {
      "text/plain": [
       "PB\n",
       "1     45\n",
       "2     43\n",
       "3     45\n",
       "4     49\n",
       "5     49\n",
       "6     50\n",
       "7     46\n",
       "8     48\n",
       "9     42\n",
       "10    49\n",
       "11    49\n",
       "12    41\n",
       "13    50\n",
       "14    45\n",
       "15    44\n",
       "16    44\n",
       "17    47\n",
       "18    60\n",
       "19    49\n",
       "20    46\n",
       "21    43\n",
       "22    41\n",
       "23    40\n",
       "24    64\n",
       "25    49\n",
       "26    47\n",
       "27    19\n",
       "28    14\n",
       "29    27\n",
       "30    15\n",
       "31    11\n",
       "32    16\n",
       "33    22\n",
       "34    13\n",
       "35    15\n",
       "36     7\n",
       "37     3\n",
       "38     5\n",
       "39     6\n",
       "dtype: int64"
      ]
     },
     "execution_count": 20,
     "metadata": {},
     "output_type": "execute_result"
    }
   ],
   "source": [
    "\n",
    "pb_df = pd.read_csv('/Users/miked/Downloads/powerball.csv')\n",
    "pb_df.columns = [\"Game\", \"Month\", \"Day\", \"Year\", \"No. 1\", \"No. 2\", \"No. 3\", \"No. 4\", \"No. 5\", \"PB\", \"PP\"]\n",
    "pb_df.drop(\"PP\", inplace=True, axis=1)\n",
    "pb_df.drop(\"Game\", inplace=True, axis=1)\n",
    "pb_df.sort_values()\n",
    "dup_num = pb_df.pivot_table(columns=['PB'], aggfunc='size')\n",
    "print(pb_df)\n",
    "dup_num.head(40)\n"
   ]
  }
 ],
 "metadata": {
  "kernelspec": {
   "display_name": "Python 3.10.6 64-bit",
   "language": "python",
   "name": "python3"
  },
  "language_info": {
   "codemirror_mode": {
    "name": "ipython",
    "version": 3
   },
   "file_extension": ".py",
   "mimetype": "text/x-python",
   "name": "python",
   "nbconvert_exporter": "python",
   "pygments_lexer": "ipython3",
   "version": "3.10.6"
  },
  "orig_nbformat": 4,
  "vscode": {
   "interpreter": {
    "hash": "aee8b7b246df8f9039afb4144a1f6fd8d2ca17a180786b69acc140d282b71a49"
   }
  }
 },
 "nbformat": 4,
 "nbformat_minor": 2
}
