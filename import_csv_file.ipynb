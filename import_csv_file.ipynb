{
 "cells": [
  {
   "cell_type": "markdown",
   "metadata": {},
   "source": []
  },
  {
   "cell_type": "code",
   "execution_count": 6,
   "metadata": {},
   "outputs": [],
   "source": [
    "\n",
    "import pandas as pd\n",
    "\n",
    "AAPL_df = pd.read_csv('/Users/miked/Downloads/HistoricalData_AAPL.csv') ##Import data from local CSV file to a dataframe.\n",
    "AAPL_df['Symbol'] = 'AAPL' ##Add a column titled \"Symbol\" in the dataframe and append all rows with the stock symbol \"AAPL\". The stock symbol was only in the file name when it was downloaded.\n",
    "AAPL_df.to_csv('/Users/miked/documents/Code_Louisville_Project/CL-Data-Main/AAPL.csv', index = False) #Export the dataframe back to CSV file with new file name and remove index.\n",
    "\n",
    "AMD_df = pd.read_csv('/Users/miked/Downloads/HistoricalData_AMD.csv', parse_dates=['Date'])\n",
    "AMD_df['Symbol'] = 'AMD'\n",
    "AMD_df.to_csv('/Users/miked/documents/Code_Louisville_Project/CL-Data-Main/AMD.csv', index = False)\n",
    "\n",
    "AMZN_df = pd.read_csv('/Users/miked/Downloads/HistoricalData_AMZN.csv', parse_dates=['Date'])\n",
    "AMZN_df['Symbol'] = 'AMZN'\n",
    "AMZN_df.to_csv('/Users/miked/documents/Code_Louisville_Project/CL-Data-Main/AMZN.csv', index = False)\n",
    "\n",
    "CSCO_df = pd.read_csv('/Users/miked/Downloads/HistoricalData_CSCO.csv', parse_dates=['Date'])\n",
    "CSCO_df['Symbol'] = 'CSCO'\n",
    "CSCO_df.to_csv('/Users/miked/documents/Code_Louisville_Project/CL-Data-Main/CSCO.csv', index = False)\n",
    "\n",
    "META_df = pd.read_csv('/Users/miked/Downloads/HistoricalData_META.csv', parse_dates=['Date'])\n",
    "META_df['Symbol'] = 'META'\n",
    "META_df.to_csv('/Users/miked/documents/Code_Louisville_Project/CL-Data-Main/META.csv', index = False)\n",
    "\n",
    "MSFT_df = pd.read_csv('/Users/miked/Downloads/HistoricalData_MSFT.csv', parse_dates=['Date'])\n",
    "MSFT_df['Symbol'] = 'MSFT'\n",
    "MSFT_df.to_csv('/Users/miked/documents/Code_Louisville_Project/CL-Data-Main/MSFT.csv', index = False)\n",
    "\n",
    "NFLX_df = pd.read_csv('/Users/miked/Downloads/HistoricalData_NFLX.csv', parse_dates=['Date'])\n",
    "NFLX_df['Symbol'] = 'NFLX'\n",
    "NFLX_df.to_csv('/Users/miked/documents/Code_Louisville_Project/CL-Data-Main/NFLX.csv', index = False)\n",
    "\n",
    "QCOM_df = pd.read_csv('/Users/miked/Downloads/HistoricalData_QCOM.csv', parse_dates=['Date'])\n",
    "QCOM_df['Symbol'] = 'QCOM'\n",
    "QCOM_df.to_csv('/Users/miked/documents/Code_Louisville_Project/CL-Data-Main/QCOM.csv', index = False)\n",
    "\n",
    "SBUX_df = pd.read_csv('/Users/miked/Downloads/HistoricalData_SBUX.csv', parse_dates=['Date'])\n",
    "SBUX_df['Symbol'] = 'SBUX'\n",
    "SBUX_df.to_csv('/Users/miked/documents/Code_Louisville_Project/CL-Data-Main/SBUX.csv', index = False)\n",
    "\n",
    "TSLA_df = pd.read_csv('/Users/miked/Downloads/HistoricalData_TSLA.csv', parse_dates=['Date'])\n",
    "TSLA_df['Symbol'] = 'TSLA'\n",
    "TSLA_df.to_csv('/Users/miked/documents/Code_Louisville_Project/CL-Data-Main/TSLA.csv', index = False)"
   ]
  }
 ],
 "metadata": {
  "kernelspec": {
   "display_name": "Python 3.10.6 64-bit",
   "language": "python",
   "name": "python3"
  },
  "language_info": {
   "codemirror_mode": {
    "name": "ipython",
    "version": 3
   },
   "file_extension": ".py",
   "mimetype": "text/x-python",
   "name": "python",
   "nbconvert_exporter": "python",
   "pygments_lexer": "ipython3",
   "version": "3.10.6"
  },
  "orig_nbformat": 4,
  "vscode": {
   "interpreter": {
    "hash": "aee8b7b246df8f9039afb4144a1f6fd8d2ca17a180786b69acc140d282b71a49"
   }
  }
 },
 "nbformat": 4,
 "nbformat_minor": 2
}
