{
 "cells": [
  {
   "cell_type": "markdown",
   "metadata": {},
   "source": []
  },
  {
   "cell_type": "code",
   "execution_count": 12,
   "metadata": {},
   "outputs": [
    {
     "name": "stdout",
     "output_type": "stream",
     "text": [
      "Index(['Unnamed: 0', 'Date', 'Close/Last', 'Volume', 'Open', 'High', 'Low',\n",
      "       'Symbol'],\n",
      "      dtype='object')\n",
      "           Date Close/Last     Volume      Open      High       Low Symbol\n",
      "0    2022-09-23    $150.43   96029910   $151.19   $151.47   $148.56   AAPL\n",
      "1    2022-09-22    $152.74   86652540   $152.38   $154.47   $150.91   AAPL\n",
      "2    2022-09-21    $153.72  101696800   $157.34   $158.74    $153.6   AAPL\n",
      "3    2022-09-20     $156.9  107689800    $153.4   $158.08   $153.08   AAPL\n",
      "4    2022-09-19    $154.48   81474250   $149.31   $154.56    $149.1   AAPL\n",
      "...         ...        ...        ...       ...       ...       ...    ...\n",
      "2512 2012-09-28   $23.8252  534277586  $24.2411  $24.3254  $23.8125   AAPL\n",
      "2513 2012-09-27   $24.3329  592149643  $23.7247  $24.3632  $23.5839   AAPL\n",
      "2514 2012-09-26   $23.7564  576353169  $23.8836  $24.0247  $23.6143   AAPL\n",
      "2515 2012-09-25    $24.055  517506153  $24.5807  $24.7422  $24.0357   AAPL\n",
      "2516 2012-09-24   $24.6711  637743425  $24.5307  $24.8257  $24.3929   AAPL\n",
      "\n",
      "[2517 rows x 7 columns]\n"
     ]
    },
    {
     "data": {
      "text/plain": [
       "Date          datetime64[ns]\n",
       "Close/Last            object\n",
       "Volume                 int64\n",
       "Open                  object\n",
       "High                  object\n",
       "Low                   object\n",
       "Symbol                object\n",
       "dtype: object"
      ]
     },
     "execution_count": 12,
     "metadata": {},
     "output_type": "execute_result"
    }
   ],
   "source": [
    "\n",
    "import pandas as pd\n",
    "AAPL_df = pd.read_csv('/Users/miked/documents/Code_Louisville_Project/HistoricalData_AAPL.csv', parse_dates=['Date']) ##Import data from local CSV file to a dataframe and convert \"Date\" column to type datetime64[ns].\n",
    "AAPL_df['Symbol'] = 'AAPL' ##Add a column titled \"Symbol\" in the dataframe and append all rows with the stock symbol \"AAPL\". The stock symbol was only in the file name when it was downloaded.\n",
    "AAPL_df.to_csv('/Users/miked/documents/Code_Louisville_Project/AAPL.csv') #Export the dataframe back to CSV file with new file name.\n",
    "conf_headers = pd.read_csv('/Users/miked/documents/Code_Louisville_Project/AAPL.csv', header='infer').columns\n",
    "print(conf_headers) #Confirm the headers are used as column names and the column \"Symbol\" was added.\n",
    "print(AAPL_df) #Confirm the stock symbol was added to each row in the Symbol column.\n",
    "AAPL_df.dtypes #Confirm \"Date\" column is type datetime64[ns].\n"
   ]
  },
  {
   "cell_type": "code",
   "execution_count": 13,
   "metadata": {},
   "outputs": [
    {
     "name": "stdout",
     "output_type": "stream",
     "text": [
      "Index(['Unnamed: 0', 'Date', 'Close/Last', 'Volume', 'Open', 'High', 'Low',\n",
      "       'Symbol'],\n",
      "      dtype='object')\n",
      "           Date Close/Last     Volume     Open      High       Low Symbol\n",
      "0    2022-09-23     $67.96   87689950      $68  $69.0801  $66.8216    AMD\n",
      "1    2022-09-22      $69.5  101436900   $73.89    $74.29    $69.17    AMD\n",
      "2    2022-09-21     $74.48   82069700  $75.435    $78.41    $74.45    AMD\n",
      "3    2022-09-20     $75.25   51129080   $76.08    $76.58  $74.7312    AMD\n",
      "4    2022-09-19     $76.77   64966910   $75.39    $77.34    $75.35    AMD\n",
      "...         ...        ...        ...      ...       ...       ...    ...\n",
      "2512 2012-09-28      $3.37   15547070    $3.43     $3.44     $3.35    AMD\n",
      "2513 2012-09-27      $3.43   19540370    $3.36      $3.5     $3.34    AMD\n",
      "2514 2012-09-26      $3.32   22939920    $3.27     $3.42     $3.22    AMD\n",
      "2515 2012-09-25      $3.28   29230920    $3.48      $3.5     $3.28    AMD\n",
      "2516 2012-09-24      $3.46   23694330    $3.54     $3.55     $3.45    AMD\n",
      "\n",
      "[2517 rows x 7 columns]\n"
     ]
    }
   ],
   "source": [
    "import pandas as pd\n",
    "AMD_df = pd.read_csv('/Users/miked/documents/Code_Louisville_Project/HistoricalData_AMD.csv', parse_dates=['Date']) #Import data from local CSV file to a dataframe and convert \"Date\" column to type datetime64[ns].\n",
    "AMD_df['Symbol'] = 'AMD'\n",
    "AMD_df.to_csv('/Users/miked/documents/Code_Louisville_Project/AMD.csv')\n",
    "conf_headers = pd.read_csv('/Users/miked/documents/Code_Louisville_Project/AMD.csv', header='infer').columns\n",
    "print(conf_headers)\n",
    "print(AMD_df)"
   ]
  },
  {
   "cell_type": "code",
   "execution_count": 14,
   "metadata": {},
   "outputs": [
    {
     "name": "stdout",
     "output_type": "stream",
     "text": [
      "Index(['Unnamed: 0', 'Date', 'Close/Last', 'Volume', 'Open', 'High', 'Low',\n",
      "       'Symbol'],\n",
      "      dtype='object')\n",
      "           Date Close/Last    Volume      Open       High       Low Symbol\n",
      "0    2022-09-23    $113.78  65126670      $116    $116.05   $112.06   AMZN\n",
      "1    2022-09-22    $117.31  55229190   $117.08    $118.79   $116.26   AMZN\n",
      "2    2022-09-21    $118.54  58498890   $122.49    $123.76   $118.45   AMZN\n",
      "3    2022-09-20    $122.19  47698430   $123.35  $124.3963   $121.14   AMZN\n",
      "4    2022-09-19    $124.66  47279730   $122.16    $124.71    $121.8   AMZN\n",
      "...         ...        ...       ...       ...        ...       ...    ...\n",
      "2512 2012-09-28    $12.716  49110200   $12.807     $12.85    $12.66   AMZN\n",
      "2513 2012-09-27   $12.8295  67812220   $12.527     $12.87   $12.526   AMZN\n",
      "2514 2012-09-26   $12.4835  58395220    $12.62   $12.7305  $12.4115   AMZN\n",
      "2515 2012-09-25    $12.623  88083200  $12.8165   $12.9475  $12.5515   AMZN\n",
      "2516 2012-09-24   $12.7403  54098920   $12.761     $12.78    $12.65   AMZN\n",
      "\n",
      "[2517 rows x 7 columns]\n"
     ]
    },
    {
     "data": {
      "text/plain": [
       "Date          datetime64[ns]\n",
       "Close/Last            object\n",
       "Volume                 int64\n",
       "Open                  object\n",
       "High                  object\n",
       "Low                   object\n",
       "Symbol                object\n",
       "dtype: object"
      ]
     },
     "execution_count": 14,
     "metadata": {},
     "output_type": "execute_result"
    }
   ],
   "source": [
    "import pandas as pd\n",
    "AMZN_df = pd.read_csv('/Users/miked/documents/Code_Louisville_Project/HistoricalData_AMZN.csv', parse_dates=['Date']) ##Import data from local CSV file to a dataframe and convert \"Date\" column to type datetime64[ns].\n",
    "AMZN_df['Symbol'] = 'AMZN'\n",
    "AMZN_df.to_csv('/Users/miked/documents/Code_Louisville_Project/AMZN.csv')\n",
    "conf_headers = pd.read_csv('/Users/miked/documents/Code_Louisville_Project/AMZN.csv', header='infer').columns\n",
    "print(conf_headers)\n",
    "print(AMZN_df)\n",
    "AAPL_df.dtypes #Confirm \"Date\" column is type datetime64[ns]."
   ]
  },
  {
   "cell_type": "code",
   "execution_count": 15,
   "metadata": {},
   "outputs": [
    {
     "name": "stdout",
     "output_type": "stream",
     "text": [
      "Index(['Unnamed: 0', 'Date', 'Close/Last', 'Volume', 'Open', 'High', 'Low',\n",
      "       'Symbol'],\n",
      "      dtype='object')\n",
      "           Date Close/Last    Volume     Open     High       Low Symbol\n",
      "0    2022-09-23     $40.66  19067690   $41.25   $41.25    $40.12   CSCO\n",
      "1    2022-09-22     $41.15  16690990   $41.34   $41.55    $41.14   CSCO\n",
      "2    2022-09-21     $41.59  21415880   $42.32  $42.865    $41.57   CSCO\n",
      "3    2022-09-20     $42.58  16813920   $43.01   $43.02  $42.2625   CSCO\n",
      "4    2022-09-19      $43.3  13667540  $42.895   $43.44    $42.76   CSCO\n",
      "...         ...        ...       ...      ...      ...       ...    ...\n",
      "2512 2012-09-28    $19.095  61012940      $19   $19.36       $19   CSCO\n",
      "2513 2012-09-27    $18.795  29786770   $18.68   $18.88    $18.55   CSCO\n",
      "2514 2012-09-26    $18.575  30261400   $18.69   $18.75    $18.35   CSCO\n",
      "2515 2012-09-25    $18.665  33986510   $18.95   $18.97    $18.63   CSCO\n",
      "2516 2012-09-24    $18.805  32150000   $18.86   $18.98    $18.69   CSCO\n",
      "\n",
      "[2517 rows x 7 columns]\n"
     ]
    },
    {
     "data": {
      "text/plain": [
       "Date          datetime64[ns]\n",
       "Close/Last            object\n",
       "Volume                 int64\n",
       "Open                  object\n",
       "High                  object\n",
       "Low                   object\n",
       "Symbol                object\n",
       "dtype: object"
      ]
     },
     "execution_count": 15,
     "metadata": {},
     "output_type": "execute_result"
    }
   ],
   "source": [
    "import pandas as pd\n",
    "CSCO_df = pd.read_csv('/Users/miked/documents/Code_Louisville_Project/HistoricalData_CSCO.csv', parse_dates=['Date']) ##Import data from local CSV file to a dataframe and convert \"Date\" column to type datetime64[ns].\n",
    "CSCO_df['Symbol'] = 'CSCO'\n",
    "CSCO_df.to_csv('/Users/miked/documents/Code_Louisville_Project/CSCO.csv')\n",
    "conf_headers = pd.read_csv('/Users/miked/documents/Code_Louisville_Project/CSCO.csv', header='infer').columns\n",
    "print(conf_headers)\n",
    "print(CSCO_df)\n",
    "AAPL_df.dtypes #Confirm \"Date\" column is type datetime64[ns]."
   ]
  },
  {
   "cell_type": "code",
   "execution_count": 16,
   "metadata": {},
   "outputs": [
    {
     "name": "stdout",
     "output_type": "stream",
     "text": [
      "Index(['Unnamed: 0', 'Date', 'Close/Last', 'Volume', 'Open', 'High', 'Low',\n",
      "       'Symbol'],\n",
      "      dtype='object')\n",
      "           Date Close/Last    Volume      Open     High       Low Symbol\n",
      "0    2022-09-23    $140.41  31710690   $141.42  $142.62   $138.89   META\n",
      "1    2022-09-22    $142.82  34418520   $141.55  $144.58   $140.87   META\n",
      "2    2022-09-21    $142.12  38338610   $146.39   $149.6      $142   META\n",
      "3    2022-09-20    $146.09  23217350  $145.775  $148.84   $145.22   META\n",
      "4    2022-09-19    $148.02  22169480  $145.235  $148.58    $145.1   META\n",
      "...         ...        ...       ...       ...      ...       ...    ...\n",
      "2512 2012-09-28     $21.66  65415370    $20.57   $21.95     $20.5   META\n",
      "2513 2012-09-27     $20.32  30061050    $20.99      $21    $20.16   META\n",
      "2514 2012-09-26     $20.62  38212360   $20.145   $20.78     $19.8   META\n",
      "2515 2012-09-25     $20.28  46169460     $21.2   $21.21    $20.22   META\n",
      "2516 2012-09-24     $20.79  78968380    $21.78   $21.98  $20.3625   META\n",
      "\n",
      "[2517 rows x 7 columns]\n"
     ]
    },
    {
     "data": {
      "text/plain": [
       "Date          datetime64[ns]\n",
       "Close/Last            object\n",
       "Volume                 int64\n",
       "Open                  object\n",
       "High                  object\n",
       "Low                   object\n",
       "Symbol                object\n",
       "dtype: object"
      ]
     },
     "execution_count": 16,
     "metadata": {},
     "output_type": "execute_result"
    }
   ],
   "source": [
    "import pandas as pd\n",
    "META_df = pd.read_csv('/Users/miked/documents/Code_Louisville_Project/HistoricalData_META.csv', parse_dates=['Date']) ##Import data from local CSV file to a dataframe and convert \"Date\" column to type datetime64[ns].\n",
    "META_df['Symbol'] = 'META'\n",
    "META_df.to_csv('/Users/miked/documents/Code_Louisville_Project/META.csv')\n",
    "conf_headers = pd.read_csv('/Users/miked/documents/Code_Louisville_Project/META.csv', header='infer').columns\n",
    "print(conf_headers)\n",
    "print(META_df)\n",
    "AAPL_df.dtypes #Confirm \"Date\" column is type datetime64[ns]."
   ]
  },
  {
   "cell_type": "code",
   "execution_count": 17,
   "metadata": {},
   "outputs": [
    {
     "name": "stdout",
     "output_type": "stream",
     "text": [
      "Index(['Unnamed: 0', 'Date', 'Close/Last', 'Volume', 'Open', 'High', 'Low',\n",
      "       'Symbol'],\n",
      "      dtype='object')\n",
      "           Date Close/Last    Volume      Open     High      Low Symbol\n",
      "0    2022-09-23    $237.92  34176050   $239.54  $241.13   $235.2   MSFT\n",
      "1    2022-09-22    $240.98  31061160   $237.87  $243.86  $237.57   MSFT\n",
      "2    2022-09-21    $238.95  28625560   $244.27  $247.66   $238.9   MSFT\n",
      "3    2022-09-20    $242.45  26660300  $242.065  $243.51  $239.64   MSFT\n",
      "4    2022-09-19    $244.52  26826930  $242.465  $245.14  $240.85   MSFT\n",
      "...         ...        ...       ...       ...      ...      ...    ...\n",
      "2512 2012-09-28     $29.76  54224570    $30.18   $30.26   $29.74   MSFT\n",
      "2513 2012-09-27     $30.16  47047090    $30.17    $30.4   $29.89   MSFT\n",
      "2514 2012-09-26    $30.165  54655030    $30.28    $30.6   $30.04   MSFT\n",
      "2515 2012-09-25     $30.39  54233980    $30.95      $31   $30.36   MSFT\n",
      "2516 2012-09-24     $30.78  46738320       $31   $31.07   $30.64   MSFT\n",
      "\n",
      "[2517 rows x 7 columns]\n"
     ]
    },
    {
     "data": {
      "text/plain": [
       "Date          datetime64[ns]\n",
       "Close/Last            object\n",
       "Volume                 int64\n",
       "Open                  object\n",
       "High                  object\n",
       "Low                   object\n",
       "Symbol                object\n",
       "dtype: object"
      ]
     },
     "execution_count": 17,
     "metadata": {},
     "output_type": "execute_result"
    }
   ],
   "source": [
    "import pandas as pd\n",
    "MSFT_df = pd.read_csv('/Users/miked/documents/Code_Louisville_Project/HistoricalData_MSFT.csv', parse_dates=['Date']) ##Import data from local CSV file to a dataframe and convert \"Date\" column to type datetime64[ns].\n",
    "MSFT_df['Symbol'] = 'MSFT'\n",
    "MSFT_df.to_csv('/Users/miked/documents/Code_Louisville_Project/MSFT.csv')\n",
    "conf_headers = pd.read_csv('/Users/miked/documents/Code_Louisville_Project/MSFT.csv', header='infer').columns\n",
    "print(conf_headers)\n",
    "print(MSFT_df)\n",
    "AAPL_df.dtypes #Confirm \"Date\" column is type datetime64[ns]."
   ]
  },
  {
   "cell_type": "code",
   "execution_count": 18,
   "metadata": {},
   "outputs": [
    {
     "name": "stdout",
     "output_type": "stream",
     "text": [
      "Index(['Unnamed: 0', 'Date', 'Close/Last', 'Volume', 'Open', 'High', 'Low',\n",
      "       'Symbol'],\n",
      "      dtype='object')\n",
      "           Date Close/Last    Volume     Open       High      Low Symbol\n",
      "0    2022-09-23    $226.41  11207230  $235.14  $236.4499  $221.43   NFLX\n",
      "1    2022-09-22    $237.05  10017970  $235.35     $240.5  $231.66   NFLX\n",
      "2    2022-09-21    $236.87   9166772  $242.67  $248.2999  $236.68   NFLX\n",
      "3    2022-09-20    $242.85  16037430  $240.37    $250.49  $239.66   NFLX\n",
      "4    2022-09-19    $243.63  17912370  $245.05    $245.25  $235.75   NFLX\n",
      "...         ...        ...       ...      ...        ...      ...    ...\n",
      "2512 2012-09-28    $7.7771  15890474  $7.8629    $7.9729  $7.7457   NFLX\n",
      "2513 2012-09-27    $7.9357  21330644    $7.98    $8.0143  $7.7371   NFLX\n",
      "2514 2012-09-26    $7.8757  36610004  $7.7129      $7.99  $7.5786   NFLX\n",
      "2515 2012-09-25    $7.6857  41839622  $8.1071    $8.1371  $7.6714   NFLX\n",
      "2516 2012-09-24    $8.0557  23652447  $8.1229    $8.2629  $8.0408   NFLX\n",
      "\n",
      "[2517 rows x 7 columns]\n"
     ]
    },
    {
     "data": {
      "text/plain": [
       "Date          datetime64[ns]\n",
       "Close/Last            object\n",
       "Volume                 int64\n",
       "Open                  object\n",
       "High                  object\n",
       "Low                   object\n",
       "Symbol                object\n",
       "dtype: object"
      ]
     },
     "execution_count": 18,
     "metadata": {},
     "output_type": "execute_result"
    }
   ],
   "source": [
    "import pandas as pd\n",
    "NFLX_df = pd.read_csv('/Users/miked/documents/Code_Louisville_Project/HistoricalData_NFLX.csv', parse_dates=['Date']) ##Import data from local CSV file to a dataframe and convert \"Date\" column to type datetime64[ns].\n",
    "NFLX_df['Symbol'] = 'NFLX'\n",
    "NFLX_df.to_csv('/Users/miked/documents/Code_Louisville_Project/NFLX.csv')\n",
    "conf_headers = pd.read_csv('/Users/miked/documents/Code_Louisville_Project/NFLX.csv', header='infer').columns\n",
    "print(conf_headers)\n",
    "print(NFLX_df)\n",
    "AAPL_df.dtypes #Confirm \"Date\" column is type datetime64[ns]."
   ]
  },
  {
   "cell_type": "code",
   "execution_count": 19,
   "metadata": {},
   "outputs": [
    {
     "name": "stdout",
     "output_type": "stream",
     "text": [
      "Index(['Unnamed: 0', 'Date', 'Close/Last', 'Volume', 'Open', 'High', 'Low',\n",
      "       'Symbol'],\n",
      "      dtype='object')\n",
      "           Date Close/Last    Volume     Open     High      Low Symbol\n",
      "0    2022-09-23    $121.19  10681290  $122.34  $122.68  $119.05   QCOM\n",
      "1    2022-09-22    $123.68   8752975  $124.75  $125.16  $122.47   QCOM\n",
      "2    2022-09-21    $124.62   8123668  $125.44  $129.79   $124.5   QCOM\n",
      "3    2022-09-20    $124.77   5672744  $125.74  $126.55  $123.89   QCOM\n",
      "4    2022-09-19    $126.65   5922656  $123.62  $127.18  $123.41   QCOM\n",
      "...         ...        ...       ...      ...      ...      ...    ...\n",
      "2512 2012-09-28     $62.47   9602816   $63.06   $63.22   $62.27   QCOM\n",
      "2513 2012-09-27     $63.49   8478825   $62.52    $63.7   $62.39   QCOM\n",
      "2514 2012-09-26     $62.32  10807250   $62.65   $63.34   $62.07   QCOM\n",
      "2515 2012-09-25     $62.73  13226890   $64.01  $64.365   $62.68   QCOM\n",
      "2516 2012-09-24    $63.665  11295120    $63.5    $63.9   $63.04   QCOM\n",
      "\n",
      "[2517 rows x 7 columns]\n"
     ]
    },
    {
     "data": {
      "text/plain": [
       "Date          datetime64[ns]\n",
       "Close/Last            object\n",
       "Volume                 int64\n",
       "Open                  object\n",
       "High                  object\n",
       "Low                   object\n",
       "Symbol                object\n",
       "dtype: object"
      ]
     },
     "execution_count": 19,
     "metadata": {},
     "output_type": "execute_result"
    }
   ],
   "source": [
    "import pandas as pd\n",
    "QCOM_df = pd.read_csv('/Users/miked/documents/Code_Louisville_Project/HistoricalData_QCOM.csv', parse_dates=['Date']) ##Import data from local CSV file to a dataframe and convert \"Date\" column to type datetime64[ns].\n",
    "QCOM_df['Symbol'] = 'QCOM'\n",
    "QCOM_df.to_csv('/Users/miked/documents/Code_Louisville_Project/QCOM.csv')\n",
    "conf_headers = pd.read_csv('/Users/miked/documents/Code_Louisville_Project/QCOM.csv', header='infer').columns\n",
    "print(conf_headers)\n",
    "print(QCOM_df)\n",
    "AAPL_df.dtypes #Confirm \"Date\" column is type datetime64[ns]."
   ]
  },
  {
   "cell_type": "code",
   "execution_count": 20,
   "metadata": {},
   "outputs": [
    {
     "name": "stdout",
     "output_type": "stream",
     "text": [
      "Index(['Unnamed: 0', 'Date', 'Close/Last', 'Volume', 'Open', 'High', 'Low',\n",
      "       'Symbol'],\n",
      "      dtype='object')\n",
      "           Date Close/Last    Volume     Open     High      Low Symbol\n",
      "0    2022-09-23     $84.17   7153192    $83.9   $84.44  $83.225   SBUX\n",
      "1    2022-09-22      $84.7   9953048      $88   $88.02   $84.38   SBUX\n",
      "2    2022-09-21      $88.6   8806754   $91.29   $91.52   $88.57   SBUX\n",
      "3    2022-09-20     $90.79   6560039   $91.66   $92.02  $90.095   SBUX\n",
      "4    2022-09-19     $92.14   6286956  $90.885   $92.55   $90.83   SBUX\n",
      "...         ...        ...       ...      ...      ...      ...    ...\n",
      "2512 2012-09-28    $25.355  16058016   $25.28   $25.48  $24.945   SBUX\n",
      "2513 2012-09-27   $25.5175  11747396  $25.165  $25.535      $25   SBUX\n",
      "2514 2012-09-26     $25.05  13970322   $25.27    $25.5  $24.905   SBUX\n",
      "2515 2012-09-25   $25.2625  14177952  $25.655   $25.84  $25.235   SBUX\n",
      "2516 2012-09-24     $25.58   9257548   $25.45  $25.715    $25.3   SBUX\n",
      "\n",
      "[2517 rows x 7 columns]\n"
     ]
    },
    {
     "data": {
      "text/plain": [
       "Date          datetime64[ns]\n",
       "Close/Last            object\n",
       "Volume                 int64\n",
       "Open                  object\n",
       "High                  object\n",
       "Low                   object\n",
       "Symbol                object\n",
       "dtype: object"
      ]
     },
     "execution_count": 20,
     "metadata": {},
     "output_type": "execute_result"
    }
   ],
   "source": [
    "import pandas as pd\n",
    "SBUX_df = pd.read_csv('/Users/miked/documents/Code_Louisville_Project/HistoricalData_SBUX.csv', parse_dates=['Date']) ##Import data from local CSV file to a dataframe and convert \"Date\" column to type datetime64[ns].\n",
    "SBUX_df['Symbol'] = 'SBUX'\n",
    "SBUX_df.to_csv('/Users/miked/documents/Code_Louisville_Project/SBUX.csv')\n",
    "conf_headers = pd.read_csv('/Users/miked/documents/Code_Louisville_Project/SBUX.csv', header='infer').columns\n",
    "print(conf_headers)\n",
    "print(SBUX_df)\n",
    "AAPL_df.dtypes #Confirm \"Date\" column is type datetime64[ns]."
   ]
  },
  {
   "cell_type": "code",
   "execution_count": 21,
   "metadata": {},
   "outputs": [
    {
     "name": "stdout",
     "output_type": "stream",
     "text": [
      "Index(['Unnamed: 0', 'Date', 'Close/Last', 'Volume', 'Open', 'High', 'Low',\n",
      "       'Symbol'],\n",
      "      dtype='object')\n",
      "           Date Close/Last    Volume     Open     High      Low Symbol\n",
      "0    2022-09-23    $275.33  63748360  $283.09   $284.5  $272.82   TSLA\n",
      "1    2022-09-22    $288.59  70545410  $299.86  $301.29  $285.82   TSLA\n",
      "2    2022-09-21     $300.8  62555660  $308.29   $313.8  $300.63   TSLA\n",
      "3    2022-09-20    $308.73  61642780  $306.91  $313.33  $305.58   TSLA\n",
      "4    2022-09-19    $309.07  60231160  $300.09  $309.84   $297.8   TSLA\n",
      "...         ...        ...       ...      ...      ...      ...    ...\n",
      "2512 2012-09-28     $1.952  65140302  $1.9153  $1.9927  $1.9073   TSLA\n",
      "2513 2012-09-27    $1.8993  26372282  $1.8547  $1.9027    $1.84   TSLA\n",
      "2514 2012-09-26     $1.836  22907629   $1.844  $1.8933   $1.832   TSLA\n",
      "2515 2012-09-25     $1.844  85050977   $1.908  $1.9653  $1.8353   TSLA\n",
      "2516 2012-09-24     $2.044  19521050  $1.9673  $2.0687    $1.96   TSLA\n",
      "\n",
      "[2517 rows x 7 columns]\n"
     ]
    },
    {
     "data": {
      "text/plain": [
       "Date          datetime64[ns]\n",
       "Close/Last            object\n",
       "Volume                 int64\n",
       "Open                  object\n",
       "High                  object\n",
       "Low                   object\n",
       "Symbol                object\n",
       "dtype: object"
      ]
     },
     "execution_count": 21,
     "metadata": {},
     "output_type": "execute_result"
    }
   ],
   "source": [
    "import pandas as pd\n",
    "TSLA_df = pd.read_csv('/Users/miked/documents/Code_Louisville_Project/HistoricalData_TSLA.csv', parse_dates=['Date']) ##Import data from local CSV file to a dataframe and convert \"Date\" column to type datetime64[ns].\n",
    "TSLA_df['Symbol'] = 'TSLA'\n",
    "TSLA_df.to_csv('/Users/miked/documents/Code_Louisville_Project/TSLA.csv')\n",
    "conf_headers = pd.read_csv('/Users/miked/documents/Code_Louisville_Project/TSLA.csv', header='infer').columns\n",
    "print(conf_headers)\n",
    "print(TSLA_df)\n",
    "AAPL_df.dtypes #Confirm \"Date\" column is type datetime64[ns]."
   ]
  }
 ],
 "metadata": {
  "kernelspec": {
   "display_name": "Python 3.10.6 64-bit",
   "language": "python",
   "name": "python3"
  },
  "language_info": {
   "codemirror_mode": {
    "name": "ipython",
    "version": 3
   },
   "file_extension": ".py",
   "mimetype": "text/x-python",
   "name": "python",
   "nbconvert_exporter": "python",
   "pygments_lexer": "ipython3",
   "version": "3.10.6"
  },
  "orig_nbformat": 4,
  "vscode": {
   "interpreter": {
    "hash": "aee8b7b246df8f9039afb4144a1f6fd8d2ca17a180786b69acc140d282b71a49"
   }
  }
 },
 "nbformat": 4,
 "nbformat_minor": 2
}
